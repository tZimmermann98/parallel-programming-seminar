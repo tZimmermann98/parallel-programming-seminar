{
 "cells": [
  {
   "cell_type": "code",
   "execution_count": 3,
   "metadata": {},
   "outputs": [],
   "source": [
    "import pandas as pd\n",
    "import os"
   ]
  },
  {
   "cell_type": "code",
   "execution_count": 6,
   "metadata": {},
   "outputs": [
    {
     "name": "stdout",
     "output_type": "stream",
     "text": [
      "ppseminar_sequential_26.out\n",
      "ppseminar_sequential_32.out\n",
      "ppseminar_sequential_33.out\n",
      "ppseminar_sequential_27.out\n",
      "ppseminar_sequential_31.out\n",
      "ppseminar_sequential_25.out\n",
      "ppseminar_sequential_19.out\n",
      "ppseminar_sequential_18.out\n",
      "ppseminar_sequential_24.out\n",
      "ppseminar_sequential_30.out\n",
      "ppseminar_sequential_34.out\n",
      "ppseminar_sequential_20.out\n",
      "ppseminar_sequential_21.out\n",
      "ppseminar_sequential_35.out\n",
      "ppseminar_sequential_23.out\n",
      "ppseminar_sequential_37.out\n",
      "ppseminar_sequential_36.out\n",
      "ppseminar_sequential_22.out\n",
      "ppseminar_sequential_45.out\n",
      "ppseminar_sequential_7.out\n",
      "ppseminar_sequential_6.out\n",
      "ppseminar_sequential_50.out\n",
      "ppseminar_sequential_44.out\n",
      "ppseminar_sequential_46.out\n",
      "ppseminar_sequential_4.out\n",
      "ppseminar_sequential_5.out\n",
      "ppseminar_sequential_47.out\n",
      "ppseminar_sequential_43.out\n",
      "ppseminar_sequential_1.out\n",
      "ppseminar_sequential_42.out\n",
      "ppseminar_sequential_40.out\n",
      "ppseminar_sequential_2.out\n",
      "ppseminar_sequential_3.out\n",
      "ppseminar_sequential_41.out\n",
      "ppseminar_sequential_8.out\n",
      "ppseminar_sequential_9.out\n",
      "ppseminar_sequential_49.out\n",
      "ppseminar_sequential_48.out\n",
      "ppseminar_sequential_13.out\n",
      "ppseminar_sequential_12.out\n",
      "ppseminar_sequential_10.out\n",
      "ppseminar_sequential_38.out\n",
      "ppseminar_sequential_39.out\n",
      "ppseminar_sequential_11.out\n",
      "ppseminar_sequential_29.out\n",
      "ppseminar_sequential_15.out\n",
      "ppseminar_sequential_14.out\n",
      "ppseminar_sequential_28.out\n",
      "ppseminar_sequential_16.out\n",
      "ppseminar_sequential_17.out\n"
     ]
    }
   ],
   "source": [
    "for root, dirs, files in os.walk('./2023-05-25T00-41-19-normal-sequential/'):\n",
    "    for f in files:\n",
    "        print(f)"
   ]
  }
 ],
 "metadata": {
  "kernelspec": {
   "display_name": ".venv",
   "language": "python",
   "name": "python3"
  },
  "language_info": {
   "codemirror_mode": {
    "name": "ipython",
    "version": 3
   },
   "file_extension": ".py",
   "mimetype": "text/x-python",
   "name": "python",
   "nbconvert_exporter": "python",
   "pygments_lexer": "ipython3",
   "version": "3.11.3"
  },
  "orig_nbformat": 4
 },
 "nbformat": 4,
 "nbformat_minor": 2
}
